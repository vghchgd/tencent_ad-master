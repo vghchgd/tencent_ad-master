{
 "cells": [
  {
   "cell_type": "code",
   "execution_count": 25,
   "metadata": {},
   "outputs": [],
   "source": [
    "import pandas as pd\n",
    "import numpy as np\n",
    "import xgboost as xgb\n",
    "from sklearn.model_selection import train_test_split\n",
    "from scipy import sparse\n",
    "from sklearn.model_selection import KFold\n",
    "from sklearn import cross_validation, metrics\n",
    "from sklearn.metrics import roc_auc_score\n",
    "import scipy.special as special\n",
    "from sklearn.externals import joblib\n",
    "import gc, os\n",
    "import datetime\n",
    "import pickle"
   ]
  },
  {
   "cell_type": "code",
   "execution_count": 26,
   "metadata": {},
   "outputs": [],
   "source": [
    "OPTIMIZE_ROUNDS = True\n",
    "EARLY_STOPPING_ROUNDS = 30\n",
    "raw_data_path = '../data/raw_data/'"
   ]
  },
  {
   "cell_type": "code",
   "execution_count": 27,
   "metadata": {},
   "outputs": [],
   "source": [
    "train_x = sparse.load_npz(raw_data_path + 'train_x_20.npz')\n",
    "test_x =  sparse.load_npz(raw_data_path + 'test_x_20.npz')\n",
    "train_y = pd.read_csv('../data/train_y_519.csv', header=None)\n",
    "test = pd.read_csv('../data/test2.csv')\n",
    "res=test[['aid','uid']]"
   ]
  },
  {
   "cell_type": "code",
   "execution_count": null,
   "metadata": {},
   "outputs": [
    {
     "data": {
      "text/plain": [
       "((8798814, 1), (8798814, 10044), (2265879, 10044))"
      ]
     },
     "execution_count": 28,
     "metadata": {},
     "output_type": "execute_result"
    }
   ],
   "source": [
    "train_y.shape, train_x.shape, test_x.shape"
   ]
  },
  {
   "cell_type": "code",
   "execution_count": null,
   "metadata": {},
   "outputs": [
    {
     "name": "stdout",
     "output_type": "stream",
     "text": [
      "XGB test\n"
     ]
    }
   ],
   "source": [
    "y_valid_pred = 0*train_y\n",
    "y_test_pred = 0\n",
    "\n",
    "print(\"XGB test\")\n",
    "model = xgb.XGBClassifier(boosting_type='gbdt', colsample_bytree=0.7,\n",
    "                         learning_rate=0.05, max_depth=9, metric='auc',\n",
    "                         gamma=0.3, min_child_weight=32, \n",
    "                         n_estimators=1, n_jobs=-1,\n",
    "                         random_state=2020, reg_alpha=1, reg_lambda=0.4, \n",
    "                         subsample=0.9)\n",
    "\n",
    "K = 5\n",
    "kf = KFold(n_splits = K, random_state = 1, shuffle = True)\n",
    "np.random.seed(2019)\n",
    "\n",
    "test_x_csr = test_x.tocsr()\n",
    "train_x_csr = train_x.tocsr()"
   ]
  },
  {
   "cell_type": "code",
   "execution_count": 21,
   "metadata": {},
   "outputs": [
    {
     "name": "stdout",
     "output_type": "stream",
     "text": [
      "\n",
      "Fold  0\n",
      "2018-05-22 10:55:38\n"
     ]
    },
    {
     "name": "stderr",
     "output_type": "stream",
     "text": [
      "/root/anaconda3/lib/python3.6/site-packages/sklearn/preprocessing/label.py:95: DataConversionWarning: A column-vector y was passed when a 1d array was expected. Please change the shape of y to (n_samples, ), for example using ravel().\n",
      "  y = column_or_1d(y, warn=True)\n",
      "/root/anaconda3/lib/python3.6/site-packages/sklearn/preprocessing/label.py:128: DataConversionWarning: A column-vector y was passed when a 1d array was expected. Please change the shape of y to (n_samples, ), for example using ravel().\n",
      "  y = column_or_1d(y, warn=True)\n"
     ]
    },
    {
     "name": "stdout",
     "output_type": "stream",
     "text": [
      "  Best N trees =  1\n",
      "  Best AUC =  1.0\n",
      "\n",
      "Fold  1\n",
      "2018-05-22 10:57:41\n"
     ]
    },
    {
     "name": "stderr",
     "output_type": "stream",
     "text": [
      "/root/anaconda3/lib/python3.6/site-packages/sklearn/preprocessing/label.py:95: DataConversionWarning: A column-vector y was passed when a 1d array was expected. Please change the shape of y to (n_samples, ), for example using ravel().\n",
      "  y = column_or_1d(y, warn=True)\n",
      "/root/anaconda3/lib/python3.6/site-packages/sklearn/preprocessing/label.py:128: DataConversionWarning: A column-vector y was passed when a 1d array was expected. Please change the shape of y to (n_samples, ), for example using ravel().\n",
      "  y = column_or_1d(y, warn=True)\n"
     ]
    },
    {
     "name": "stdout",
     "output_type": "stream",
     "text": [
      "  Best N trees =  1\n",
      "  Best AUC =  1.0\n",
      "\n",
      "Fold  2\n",
      "2018-05-22 10:59:09\n"
     ]
    },
    {
     "name": "stderr",
     "output_type": "stream",
     "text": [
      "/root/anaconda3/lib/python3.6/site-packages/sklearn/preprocessing/label.py:95: DataConversionWarning: A column-vector y was passed when a 1d array was expected. Please change the shape of y to (n_samples, ), for example using ravel().\n",
      "  y = column_or_1d(y, warn=True)\n",
      "/root/anaconda3/lib/python3.6/site-packages/sklearn/preprocessing/label.py:128: DataConversionWarning: A column-vector y was passed when a 1d array was expected. Please change the shape of y to (n_samples, ), for example using ravel().\n",
      "  y = column_or_1d(y, warn=True)\n"
     ]
    },
    {
     "name": "stdout",
     "output_type": "stream",
     "text": [
      "  Best N trees =  1\n",
      "  Best AUC =  1.0\n",
      "\n",
      "Fold  3\n",
      "2018-05-22 11:00:32\n"
     ]
    },
    {
     "name": "stderr",
     "output_type": "stream",
     "text": [
      "/root/anaconda3/lib/python3.6/site-packages/sklearn/preprocessing/label.py:95: DataConversionWarning: A column-vector y was passed when a 1d array was expected. Please change the shape of y to (n_samples, ), for example using ravel().\n",
      "  y = column_or_1d(y, warn=True)\n",
      "/root/anaconda3/lib/python3.6/site-packages/sklearn/preprocessing/label.py:128: DataConversionWarning: A column-vector y was passed when a 1d array was expected. Please change the shape of y to (n_samples, ), for example using ravel().\n",
      "  y = column_or_1d(y, warn=True)\n"
     ]
    },
    {
     "name": "stdout",
     "output_type": "stream",
     "text": [
      "  Best N trees =  1\n",
      "  Best AUC =  1.0\n",
      "\n",
      "Fold  4\n",
      "2018-05-22 11:01:56\n"
     ]
    },
    {
     "name": "stderr",
     "output_type": "stream",
     "text": [
      "/root/anaconda3/lib/python3.6/site-packages/sklearn/preprocessing/label.py:95: DataConversionWarning: A column-vector y was passed when a 1d array was expected. Please change the shape of y to (n_samples, ), for example using ravel().\n",
      "  y = column_or_1d(y, warn=True)\n",
      "/root/anaconda3/lib/python3.6/site-packages/sklearn/preprocessing/label.py:128: DataConversionWarning: A column-vector y was passed when a 1d array was expected. Please change the shape of y to (n_samples, ), for example using ravel().\n",
      "  y = column_or_1d(y, warn=True)\n"
     ]
    },
    {
     "name": "stdout",
     "output_type": "stream",
     "text": [
      "  Best N trees =  1\n",
      "  Best AUC =  1.0\n"
     ]
    }
   ],
   "source": [
    "for i, (train_index, test_index) in enumerate(kf.split(train_x)):\n",
    "\n",
    "    # Create data for this fold\n",
    "    y_train, y_valid = train_y.iloc[train_index].copy(), train_y.iloc[test_index].copy()\n",
    "    X_train, X_valid = train_x_csr[train_index.tolist(), :].copy(), train_x_csr[test_index.tolist(), :].copy()\n",
    "    X_test = test_x_csr.copy()\n",
    "    print (\"\\nFold \", i)\n",
    "    print(datetime.datetime.now().strftime('%Y-%m-%d %H:%M:%S'))\n",
    "    if OPTIMIZE_ROUNDS:\n",
    "        eval_set = [(X_valid, y_valid)]\n",
    "        fit_model = model.fit(X_train, y_train,\n",
    "                              eval_set=eval_set,\n",
    "                              eval_metric='auc',\n",
    "                              early_stopping_rounds=EARLY_STOPPING_ROUNDS,\n",
    "                              verbose=False\n",
    "                              )\n",
    "        print (\"  Best N trees = \", model.best_ntree_limit)\n",
    "        print (\"  Best AUC = \", model.best_score)\n",
    "    else:\n",
    "        fit_model = model.fit(X_train, y_train)\n",
    "\n",
    "    pred = fit_model.predict_proba(X_valid)[:, 1]\n",
    "    y_valid_pred.iloc[test_index] = pred.reshape(-1,1)\n",
    "\n",
    "    # Accumulate test set predictions\n",
    "    y_test_pred += fit_model.predict_proba(X_test)[:, 1]\n",
    "\n",
    "    del X_test, X_train, X_valid, y_train"
   ]
  },
  {
   "cell_type": "code",
   "execution_count": 24,
   "metadata": {},
   "outputs": [
    {
     "name": "stdout",
     "output_type": "stream",
     "text": [
      "\n",
      "AUC for full training set:\n",
      "1.0\n",
      "-----------model saved----------\n"
     ]
    }
   ],
   "source": [
    "y_test_pred /= K  # Average test set predictions\n",
    "res['score'] = y_test_pred\n",
    "res['score'] = res['score'].apply(lambda x: float('%.6f' % x))\n",
    "res.to_csv('../data/result/submission_22.csv', index=False)\n",
    "os.system('zip ../data/result/baseline_xgb_22.zip ../data/result/submission_22.csv')\n",
    "print( \"\\nAUC for full training set:\" )\n",
    "print(roc_auc_score(train_y, y_valid_pred))\n",
    "joblib.dump(model, '../data/model/xgb_submit_22.model')\n",
    "print('-----------model saved----------')\n"
   ]
  },
  {
   "cell_type": "code",
   "execution_count": null,
   "metadata": {},
   "outputs": [],
   "source": []
  }
 ],
 "metadata": {
  "kernelspec": {
   "display_name": "Python 3",
   "language": "python",
   "name": "python3"
  },
  "language_info": {
   "codemirror_mode": {
    "name": "ipython",
    "version": 3
   },
   "file_extension": ".py",
   "mimetype": "text/x-python",
   "name": "python",
   "nbconvert_exporter": "python",
   "pygments_lexer": "ipython3",
   "version": "3.6.4"
  }
 },
 "nbformat": 4,
 "nbformat_minor": 2
}

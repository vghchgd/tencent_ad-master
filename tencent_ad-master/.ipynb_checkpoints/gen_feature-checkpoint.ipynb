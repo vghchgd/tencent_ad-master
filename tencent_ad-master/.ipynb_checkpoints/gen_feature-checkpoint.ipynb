{
 "cells": [
  {
   "cell_type": "code",
   "execution_count": 1,
   "metadata": {},
   "outputs": [
    {
     "name": "stderr",
     "output_type": "stream",
     "text": [
      "/root/anaconda3/lib/python3.6/site-packages/sklearn/cross_validation.py:41: DeprecationWarning: This module was deprecated in version 0.18 in favor of the model_selection module into which all the refactored classes and functions are moved. Also note that the interface of the new CV iterators are different from that of this module. This module will be removed in 0.20.\n",
      "  \"This module will be removed in 0.20.\", DeprecationWarning)\n",
      "/root/anaconda3/lib/python3.6/site-packages/sklearn/grid_search.py:42: DeprecationWarning: This module was deprecated in version 0.18 in favor of the model_selection module into which all the refactored classes and functions are moved. This module will be removed in 0.20.\n",
      "  DeprecationWarning)\n"
     ]
    }
   ],
   "source": [
    "import pandas as pd\n",
    "import numpy as np\n",
    "import xgboost as xgb\n",
    "from xgboost import XGBClassifier\n",
    "from sklearn.model_selection import train_test_split\n",
    "from sklearn.feature_extraction.text import CountVectorizer\n",
    "from sklearn.preprocessing import OneHotEncoder,LabelEncoder\n",
    "from scipy import sparse\n",
    "from sklearn.model_selection import KFold\n",
    "from sklearn.metrics import classification_report\n",
    "from sklearn import cross_validation, metrics\n",
    "from sklearn.grid_search import GridSearchCV\n",
    "import matplotlib.pylab as plt\n",
    "%matplotlib inline\n",
    "import os"
   ]
  },
  {
   "cell_type": "code",
   "execution_count": 2,
   "metadata": {},
   "outputs": [],
   "source": [
    "ad_feature=pd.read_csv('../data/adFeature.csv')\n",
    "if os.path.exists('../data/userFeature.csv'):\n",
    "    user_feature=pd.read_csv('../data/userFeature.csv')\n",
    "else:\n",
    "    userFeature_data = []\n",
    "    with open('../data/userFeature.data', 'r') as f:\n",
    "        for i, line in enumerate(f):\n",
    "            line = line.strip().split('|')\n",
    "            userFeature_dict = {}\n",
    "            for each in line:\n",
    "                each_list = each.split(' ')\n",
    "                userFeature_dict[each_list[0]] = ' '.join(each_list[1:])\n",
    "            userFeature_data.append(userFeature_dict)\n",
    "            if i % 100000 == 0:\n",
    "                print(i)\n",
    "        user_feature = pd.DataFrame(userFeature_data)\n",
    "        user_feature.to_csv('../data/userFeature.csv', index=False)\n",
    "        del userFeature_data"
   ]
  },
  {
   "cell_type": "code",
   "execution_count": 9,
   "metadata": {},
   "outputs": [],
   "source": [
    "train=pd.read_csv('../data/train.csv')\n",
    "# predict=pd.read_csv('../data/test1.csv')\n",
    "train.loc[train['label']==-1,'label']=0\n",
    "# predict['label']=-1\n",
    "# data=pd.concat([train,predict])\n",
    "data = train\n",
    "data=pd.merge(data,ad_feature,on='aid',how='left')\n",
    "data=pd.merge(data,user_feature,on='uid',how='left')\n",
    "data=data.fillna('-1')"
   ]
  },
  {
   "cell_type": "code",
   "execution_count": 11,
   "metadata": {},
   "outputs": [],
   "source": [
    "sample_data = data.sample(frac=0.01)\n",
    "sample_data.to_csv('../data/sample_train.csv', index=False)"
   ]
  },
  {
   "cell_type": "code",
   "execution_count": 12,
   "metadata": {},
   "outputs": [],
   "source": [
    "data = sample_data"
   ]
  },
  {
   "cell_type": "code",
   "execution_count": 13,
   "metadata": {},
   "outputs": [],
   "source": [
    "one_hot_feature=['LBS','age','carrier','consumptionAbility','education','gender','house','os','ct','marriageStatus','advertiserId','campaignId', 'creativeId',\n",
    "       'adCategoryId', 'productId', 'productType']\n",
    "vector_feature=['appIdAction','appIdInstall','interest1','interest2','interest3','interest4','interest5','kw1','kw2','kw3','topic1','topic2','topic3']\n",
    "for feature in one_hot_feature:\n",
    "    try:\n",
    "        data[feature] = LabelEncoder().fit_transform(data[feature].apply(int))\n",
    "    except:\n",
    "        data[feature] = LabelEncoder().fit_transform(data[feature])"
   ]
  },
  {
   "cell_type": "code",
   "execution_count": 14,
   "metadata": {},
   "outputs": [
    {
     "name": "stdout",
     "output_type": "stream",
     "text": [
      "one-hot prepared !\n"
     ]
    }
   ],
   "source": [
    "train=data[data.label!=-1]\n",
    "train_y=train.pop('label')\n",
    "# train, test, train_y, test_y = train_test_split(train,train_y,test_size=0.2, random_state=2018)\n",
    "test=data[data.label==-1]\n",
    "test_id=test[['aid','uid']]\n",
    "test=test.drop('label',axis=1)\n",
    "enc = OneHotEncoder()\n",
    "train_x=train[['creativeSize']]\n",
    "test_x=test[['creativeSize']]\n",
    "\n",
    "for feature in one_hot_feature:\n",
    "    enc.fit(data[feature].values.reshape(-1, 1))\n",
    "    train_a=enc.transform(train[feature].values.reshape(-1, 1))\n",
    "    test_a = enc.transform(test[feature].values.reshape(-1, 1))\n",
    "    train_x= sparse.hstack((train_x, train_a))\n",
    "    test_x = sparse.hstack((test_x, test_a))\n",
    "print('one-hot prepared !')"
   ]
  },
  {
   "cell_type": "code",
   "execution_count": 15,
   "metadata": {},
   "outputs": [
    {
     "name": "stdout",
     "output_type": "stream",
     "text": [
      "cv prepared !\n"
     ]
    }
   ],
   "source": [
    "cv=CountVectorizer()\n",
    "for feature in vector_feature:\n",
    "    cv.fit(data[feature])\n",
    "    train_a = cv.transform(train[feature])\n",
    "    test_a = cv.transform(test[feature])\n",
    "    train_x = sparse.hstack((train_x, train_a))\n",
    "    test_x = sparse.hstack((test_x, test_a))\n",
    "print('cv prepared !')"
   ]
  },
  {
   "cell_type": "code",
   "execution_count": null,
   "metadata": {},
   "outputs": [],
   "source": [
    "# train_gen = sparse.vstack((sparse.hstack((train_x, train_y.values.reshape(-1,1))), sparse.hstack((test_x, test_y.values.reshape(-1,1)))))\n",
    "np.save('../data/train_feature_gen.npy', train_x)\n",
    "# del train_gen"
   ]
  },
  {
   "cell_type": "code",
   "execution_count": 16,
   "metadata": {},
   "outputs": [
    {
     "data": {
      "text/plain": [
       "(87988, 113982)"
      ]
     },
     "execution_count": 16,
     "metadata": {},
     "output_type": "execute_result"
    }
   ],
   "source": [
    "train_x.shape"
   ]
  },
  {
   "cell_type": "code",
   "execution_count": 17,
   "metadata": {},
   "outputs": [],
   "source": [
    "model = XGBClassifier(    \n",
    "                        n_estimators=1000,\n",
    "                        max_depth=7,\n",
    "                        objective=\"binary:logistic\",\n",
    "                        learning_rate=0.1, \n",
    "                        subsample=.8,\n",
    "                        min_child_weight=5,\n",
    "                        colsample_bytree=.9,\n",
    "                        #scale_pos_weight=1.6,\n",
    "                        gamma=0,\n",
    "                        #reg_alpha=8,\n",
    "                        #reg_lambda=1.3,\n",
    "                        n_jobs=-1,\n",
    "                        scale_pos_weight=1,\n",
    "                        seed=2018\n",
    "                     )"
   ]
  },
  {
   "cell_type": "code",
   "execution_count": 18,
   "metadata": {},
   "outputs": [],
   "source": [
    "def modelfit(alg, x_train, y_train, useTrainCV=True, cv_folds=5, early_stopping_rounds=50):\n",
    "    if useTrainCV:\n",
    "        xgb_param = alg.get_xgb_params()\n",
    "        xgtrain = xgb.DMatrix(x_train, label=y_train)\n",
    "        cvresult = xgb.cv(xgb_param, xgtrain, num_boost_round=alg.get_params()['n_estimators'], nfold=cv_folds,\n",
    "            metrics='auc', early_stopping_rounds=early_stopping_rounds, verbose_eval=10, show_stdv=True)\n",
    "        alg.set_params(n_estimators=cvresult.shape[0])\n",
    "        print (\"BEST Tree Nums is %s\" % (cvresult.shape[0]))\n",
    "    #Fit the algorithm on the data\n",
    "    alg.fit(x_train, y_train,eval_metric='auc')\n",
    "\n",
    "    #Predict training set:\n",
    "    dtrain_predictions = alg.predict(x_train)\n",
    "    dtrain_predprob = alg.predict_proba(x_train)[:,1]\n",
    "\n",
    "    #Print model report:\n",
    "    print (\"\\nModel Report\")\n",
    "    print (\"Accuracy : %.4g\" % metrics.accuracy_score(y_train.values, dtrain_predictions))\n",
    "    print (\"AUC Score (Train): %f\" % metrics.roc_auc_score(y_train, dtrain_predprob))\n",
    "    feat_imp = pd.Series(alg.get_booster().get_fscore()).sort_values(ascending=False)\n",
    "    feat_imp\n",
    "    feat_imp.plot(kind='bar', title='Feature Importances')\n",
    "    plt.ylabel('Feature Importance Score')"
   ]
  },
  {
   "cell_type": "code",
   "execution_count": 19,
   "metadata": {},
   "outputs": [
    {
     "name": "stdout",
     "output_type": "stream",
     "text": [
      "[0]\ttrain-auc:0.604493+0.00660929\ttest-auc:0.593084+0.0065374\n",
      "[10]\ttrain-auc:0.6903+0.00535008\ttest-auc:0.63346+0.0127858\n",
      "[20]\ttrain-auc:0.729265+0.00601525\ttest-auc:0.640937+0.0109038\n",
      "[30]\ttrain-auc:0.776961+0.00344259\ttest-auc:0.653702+0.0121862\n",
      "[40]\ttrain-auc:0.811772+0.00398839\ttest-auc:0.657439+0.0141497\n",
      "[50]\ttrain-auc:0.83523+0.00243545\ttest-auc:0.657614+0.0139199\n",
      "[60]\ttrain-auc:0.851889+0.00294735\ttest-auc:0.658638+0.0146283\n",
      "[70]\ttrain-auc:0.864933+0.0028833\ttest-auc:0.660291+0.0145016\n",
      "[80]\ttrain-auc:0.875612+0.00317605\ttest-auc:0.660772+0.0137212\n",
      "[90]\ttrain-auc:0.885509+0.00247589\ttest-auc:0.661318+0.012774\n",
      "[100]\ttrain-auc:0.893655+0.0025761\ttest-auc:0.661531+0.0119075\n",
      "[110]\ttrain-auc:0.899872+0.0028957\ttest-auc:0.661891+0.0114439\n",
      "[120]\ttrain-auc:0.906562+0.00389971\ttest-auc:0.662426+0.0119956\n",
      "[130]\ttrain-auc:0.912944+0.00365011\ttest-auc:0.662273+0.0120103\n",
      "[140]\ttrain-auc:0.918203+0.00307109\ttest-auc:0.663049+0.0121349\n",
      "[150]\ttrain-auc:0.922817+0.00342738\ttest-auc:0.662584+0.0122178\n",
      "[160]\ttrain-auc:0.927033+0.00327813\ttest-auc:0.66295+0.0121221\n",
      "[170]\ttrain-auc:0.931297+0.00313086\ttest-auc:0.662039+0.0125256\n",
      "[180]\ttrain-auc:0.935053+0.00303363\ttest-auc:0.662108+0.012615\n",
      "[190]\ttrain-auc:0.938917+0.00214115\ttest-auc:0.661868+0.0135935\n",
      "[200]\ttrain-auc:0.941934+0.00207621\ttest-auc:0.661515+0.0131861\n",
      "BEST Tree Nums is 160\n"
     ]
    },
    {
     "name": "stderr",
     "output_type": "stream",
     "text": [
      "/root/anaconda3/lib/python3.6/site-packages/sklearn/preprocessing/label.py:151: DeprecationWarning: The truth value of an empty array is ambiguous. Returning False, but in future this will result in an error. Use `array.size > 0` to check that an array is not empty.\n",
      "  if diff:\n"
     ]
    },
    {
     "name": "stdout",
     "output_type": "stream",
     "text": [
      "\n",
      "Model Report\n",
      "Accuracy : 0.9552\n",
      "AUC Score (Train): 0.914399\n"
     ]
    },
    {
     "data": {
      "image/png": "[encoded data removed]",
      "text/plain": [
       "<matplotlib.figure.Figure at 0x7fdd2e59c5c0>"
      ]
     },
     "metadata": {},
     "output_type": "display_data"
    }
   ],
   "source": [
    "modelfit(model, train_x, train_y)"
   ]
  },
  {
   "cell_type": "code",
   "execution_count": 22,
   "metadata": {},
   "outputs": [
    {
     "data": {
      "text/plain": [
       "([mean: 0.66035, std: 0.00719, params: {'max_depth': 6},\n",
       "  mean: 0.66114, std: 0.00540, params: {'max_depth': 7},\n",
       "  mean: 0.65994, std: 0.00465, params: {'max_depth': 8}],\n",
       " {'max_depth': 7},\n",
       " 0.6611427154096927)"
      ]
     },
     "execution_count": 22,
     "metadata": {},
     "output_type": "execute_result"
    }
   ],
   "source": [
    "param_test1 = {\n",
    "  'max_depth':[6,7,8]\n",
    "}\n",
    "gsearch1 = GridSearchCV(estimator = model, \n",
    " param_grid = param_test1,     scoring='roc_auc',n_jobs=-1,iid=False, cv=5)\n",
    "gsearch1.fit(train_x, train_y)\n",
    "gsearch1.grid_scores_, gsearch1.best_params_, gsearch1.best_score_"
   ]
  },
  {
   "cell_type": "code",
   "execution_count": 23,
   "metadata": {},
   "outputs": [],
   "source": [
    "K = 5\n",
    "kf = KFold(n_splits = K, random_state = 1, shuffle = True)\n",
    "np.random.seed(0)\n",
    "OPTIMIZE_ROUNDS=True"
   ]
  },
  {
   "cell_type": "code",
   "execution_count": 44,
   "metadata": {},
   "outputs": [
    {
     "name": "stdout",
     "output_type": "stream",
     "text": [
      "  (0, 0)\t100.0\n",
      "  (1, 0)\t35.0\n",
      "  (2, 0)\t35.0\n",
      "  (3, 0)\t22.0\n",
      "  (4, 0)\t79.0\n",
      "  (5, 0)\t35.0\n",
      "  (6, 0)\t59.0\n",
      "  (7, 0)\t35.0\n",
      "  (8, 0)\t42.0\n",
      "  (9, 0)\t35.0\n",
      "  (10, 0)\t35.0\n",
      "  (11, 0)\t35.0\n",
      "  (12, 0)\t42.0\n",
      "  (13, 0)\t60.0\n",
      "  (14, 0)\t53.0\n",
      "  (15, 0)\t35.0\n",
      "  (16, 0)\t59.0\n",
      "  (17, 0)\t22.0\n",
      "  (18, 0)\t22.0\n",
      "  (19, 0)\t35.0\n",
      "  (20, 0)\t79.0\n",
      "  (21, 0)\t109.0\n",
      "  (22, 0)\t22.0\n",
      "  (23, 0)\t22.0\n",
      "  (24, 0)\t35.0\n",
      "  :\t:\n",
      "  (87927, 112512)\t1.0\n",
      "  (87927, 113024)\t1.0\n",
      "  (87927, 113225)\t1.0\n",
      "  (87927, 113249)\t1.0\n",
      "  (87927, 113954)\t1.0\n",
      "  (87934, 112126)\t1.0\n",
      "  (87934, 112413)\t1.0\n",
      "  (87934, 112991)\t1.0\n",
      "  (87934, 113516)\t1.0\n",
      "  (87934, 113583)\t1.0\n",
      "  (87939, 112215)\t1.0\n",
      "  (87939, 112829)\t1.0\n",
      "  (87939, 112939)\t1.0\n",
      "  (87939, 113145)\t1.0\n",
      "  (87939, 113680)\t1.0\n",
      "  (87970, 112180)\t1.0\n",
      "  (87970, 112515)\t1.0\n",
      "  (87970, 113085)\t1.0\n",
      "  (87970, 113086)\t1.0\n",
      "  (87970, 113971)\t1.0\n",
      "  (87981, 112126)\t1.0\n",
      "  (87981, 112386)\t1.0\n",
      "  (87981, 112829)\t1.0\n",
      "  (87981, 112976)\t1.0\n",
      "  (87981, 113578)\t1.0\n",
      "  (0, 0)\t100.0\n",
      "  (1, 0)\t35.0\n",
      "  (2, 0)\t35.0\n",
      "  (3, 0)\t22.0\n",
      "  (4, 0)\t79.0\n",
      "  (5, 0)\t35.0\n",
      "  (6, 0)\t59.0\n",
      "  (7, 0)\t35.0\n",
      "  (8, 0)\t42.0\n",
      "  (9, 0)\t35.0\n",
      "  (10, 0)\t35.0\n",
      "  (11, 0)\t35.0\n",
      "  (12, 0)\t42.0\n",
      "  (13, 0)\t60.0\n",
      "  (14, 0)\t53.0\n",
      "  (15, 0)\t35.0\n",
      "  (16, 0)\t59.0\n",
      "  (17, 0)\t22.0\n",
      "  (18, 0)\t22.0\n",
      "  (19, 0)\t35.0\n",
      "  (20, 0)\t79.0\n",
      "  (21, 0)\t109.0\n",
      "  (22, 0)\t22.0\n",
      "  (23, 0)\t22.0\n",
      "  (24, 0)\t35.0\n",
      "  :\t:\n",
      "  (87927, 112512)\t1.0\n",
      "  (87927, 113024)\t1.0\n",
      "  (87927, 113225)\t1.0\n",
      "  (87927, 113249)\t1.0\n",
      "  (87927, 113954)\t1.0\n",
      "  (87934, 112126)\t1.0\n",
      "  (87934, 112413)\t1.0\n",
      "  (87934, 112991)\t1.0\n",
      "  (87934, 113516)\t1.0\n",
      "  (87934, 113583)\t1.0\n",
      "  (87939, 112215)\t1.0\n",
      "  (87939, 112829)\t1.0\n",
      "  (87939, 112939)\t1.0\n",
      "  (87939, 113145)\t1.0\n",
      "  (87939, 113680)\t1.0\n",
      "  (87970, 112180)\t1.0\n",
      "  (87970, 112515)\t1.0\n",
      "  (87970, 113085)\t1.0\n",
      "  (87970, 113086)\t1.0\n",
      "  (87970, 113971)\t1.0\n",
      "  (87981, 112126)\t1.0\n",
      "  (87981, 112386)\t1.0\n",
      "  (87981, 112829)\t1.0\n",
      "  (87981, 112976)\t1.0\n",
      "  (87981, 113578)\t1.0\n",
      "  (0, 0)\t100.0\n",
      "  (1, 0)\t35.0\n",
      "  (2, 0)\t35.0\n",
      "  (3, 0)\t22.0\n",
      "  (4, 0)\t79.0\n",
      "  (5, 0)\t35.0\n",
      "  (6, 0)\t59.0\n",
      "  (7, 0)\t35.0\n",
      "  (8, 0)\t42.0\n",
      "  (9, 0)\t35.0\n",
      "  (10, 0)\t35.0\n",
      "  (11, 0)\t35.0\n",
      "  (12, 0)\t42.0\n",
      "  (13, 0)\t60.0\n",
      "  (14, 0)\t53.0\n",
      "  (15, 0)\t35.0\n",
      "  (16, 0)\t59.0\n",
      "  (17, 0)\t22.0\n",
      "  (18, 0)\t22.0\n",
      "  (19, 0)\t35.0\n",
      "  (20, 0)\t79.0\n",
      "  (21, 0)\t109.0\n",
      "  (22, 0)\t22.0\n",
      "  (23, 0)\t22.0\n",
      "  (24, 0)\t35.0\n",
      "  :\t:\n",
      "  (87927, 112512)\t1.0\n",
      "  (87927, 113024)\t1.0\n",
      "  (87927, 113225)\t1.0\n",
      "  (87927, 113249)\t1.0\n",
      "  (87927, 113954)\t1.0\n",
      "  (87934, 112126)\t1.0\n",
      "  (87934, 112413)\t1.0\n",
      "  (87934, 112991)\t1.0\n",
      "  (87934, 113516)\t1.0\n",
      "  (87934, 113583)\t1.0\n",
      "  (87939, 112215)\t1.0\n",
      "  (87939, 112829)\t1.0\n",
      "  (87939, 112939)\t1.0\n",
      "  (87939, 113145)\t1.0\n",
      "  (87939, 113680)\t1.0\n",
      "  (87970, 112180)\t1.0\n",
      "  (87970, 112515)\t1.0\n",
      "  (87970, 113085)\t1.0\n",
      "  (87970, 113086)\t1.0\n",
      "  (87970, 113971)\t1.0\n",
      "  (87981, 112126)\t1.0\n",
      "  (87981, 112386)\t1.0\n",
      "  (87981, 112829)\t1.0\n",
      "  (87981, 112976)\t1.0\n",
      "  (87981, 113578)\t1.0\n",
      "  (0, 0)\t100.0\n",
      "  (1, 0)\t35.0\n",
      "  (2, 0)\t35.0\n",
      "  (3, 0)\t22.0\n",
      "  (4, 0)\t79.0\n",
      "  (5, 0)\t35.0\n",
      "  (6, 0)\t59.0\n",
      "  (7, 0)\t35.0\n",
      "  (8, 0)\t42.0\n",
      "  (9, 0)\t35.0\n",
      "  (10, 0)\t35.0\n",
      "  (11, 0)\t35.0\n",
      "  (12, 0)\t42.0\n",
      "  (13, 0)\t60.0\n",
      "  (14, 0)\t53.0\n",
      "  (15, 0)\t35.0\n",
      "  (16, 0)\t59.0\n",
      "  (17, 0)\t22.0\n",
      "  (18, 0)\t22.0\n",
      "  (19, 0)\t35.0\n",
      "  (20, 0)\t79.0\n",
      "  (21, 0)\t109.0\n",
      "  (22, 0)\t22.0\n",
      "  (23, 0)\t22.0\n",
      "  (24, 0)\t35.0\n",
      "  :\t:\n",
      "  (87927, 112512)\t1.0\n",
      "  (87927, 113024)\t1.0\n",
      "  (87927, 113225)\t1.0\n",
      "  (87927, 113249)\t1.0\n",
      "  (87927, 113954)\t1.0\n",
      "  (87934, 112126)\t1.0\n",
      "  (87934, 112413)\t1.0\n",
      "  (87934, 112991)\t1.0\n",
      "  (87934, 113516)\t1.0\n",
      "  (87934, 113583)\t1.0\n",
      "  (87939, 112215)\t1.0\n",
      "  (87939, 112829)\t1.0\n",
      "  (87939, 112939)\t1.0\n",
      "  (87939, 113145)\t1.0\n",
      "  (87939, 113680)\t1.0\n",
      "  (87970, 112180)\t1.0\n",
      "  (87970, 112515)\t1.0\n",
      "  (87970, 113085)\t1.0\n",
      "  (87970, 113086)\t1.0\n",
      "  (87970, 113971)\t1.0\n",
      "  (87981, 112126)\t1.0\n",
      "  (87981, 112386)\t1.0\n",
      "  (87981, 112829)\t1.0\n",
      "  (87981, 112976)\t1.0\n",
      "  (87981, 113578)\t1.0\n",
      "  (0, 0)\t100.0\n",
      "  (1, 0)\t35.0\n",
      "  (2, 0)\t35.0\n",
      "  (3, 0)\t22.0\n",
      "  (4, 0)\t79.0\n",
      "  (5, 0)\t35.0\n",
      "  (6, 0)\t59.0\n",
      "  (7, 0)\t35.0\n",
      "  (8, 0)\t42.0\n",
      "  (9, 0)\t35.0\n",
      "  (10, 0)\t35.0\n",
      "  (11, 0)\t35.0\n",
      "  (12, 0)\t42.0\n",
      "  (13, 0)\t60.0\n",
      "  (14, 0)\t53.0\n",
      "  (15, 0)\t35.0\n",
      "  (16, 0)\t59.0\n",
      "  (17, 0)\t22.0\n",
      "  (18, 0)\t22.0\n",
      "  (19, 0)\t35.0\n",
      "  (20, 0)\t79.0\n",
      "  (21, 0)\t109.0\n",
      "  (22, 0)\t22.0\n",
      "  (23, 0)\t22.0\n",
      "  (24, 0)\t35.0\n",
      "  :\t:\n",
      "  (87927, 112512)\t1.0\n",
      "  (87927, 113024)\t1.0\n",
      "  (87927, 113225)\t1.0\n",
      "  (87927, 113249)\t1.0\n",
      "  (87927, 113954)\t1.0\n",
      "  (87934, 112126)\t1.0\n",
      "  (87934, 112413)\t1.0\n",
      "  (87934, 112991)\t1.0\n",
      "  (87934, 113516)\t1.0\n",
      "  (87934, 113583)\t1.0\n",
      "  (87939, 112215)\t1.0\n",
      "  (87939, 112829)\t1.0\n",
      "  (87939, 112939)\t1.0\n",
      "  (87939, 113145)\t1.0\n",
      "  (87939, 113680)\t1.0\n",
      "  (87970, 112180)\t1.0\n",
      "  (87970, 112515)\t1.0\n",
      "  (87970, 113085)\t1.0\n",
      "  (87970, 113086)\t1.0\n",
      "  (87970, 113971)\t1.0\n",
      "  (87981, 112126)\t1.0\n",
      "  (87981, 112386)\t1.0\n",
      "  (87981, 112829)\t1.0\n",
      "  (87981, 112976)\t1.0\n",
      "  (87981, 113578)\t1.0\n"
     ]
    }
   ],
   "source": [
    "for i, (train_index, test_index) in enumerate(kf.split(train_x)):\n",
    "    print (train_x)"
   ]
  },
  {
   "cell_type": "code",
   "execution_count": 47,
   "metadata": {},
   "outputs": [
    {
     "data": {
      "text/plain": [
       "<87988x113982 sparse matrix of type '<class 'numpy.float64'>'\n",
       "\twith 5868868 stored elements in COOrdinate format>"
      ]
     },
     "execution_count": 47,
     "metadata": {},
     "output_type": "execute_result"
    }
   ],
   "source": [
    "train_x"
   ]
  },
  {
   "cell_type": "code",
   "execution_count": 36,
   "metadata": {},
   "outputs": [
    {
     "ename": "TypeError",
     "evalue": "'coo_matrix' object is not subscriptable",
     "output_type": "error",
     "traceback": [
      "\u001b[0;31m---------------------------------------------------------------------------\u001b[0m",
      "\u001b[0;31mTypeError\u001b[0m                                 Traceback (most recent call last)",
      "\u001b[0;32m<ipython-input-36-0429606e84b2>\u001b[0m in \u001b[0;36m<module>\u001b[0;34m()\u001b[0m\n\u001b[1;32m      3\u001b[0m     \u001b[0;31m# Create data for this fold\u001b[0m\u001b[0;34m\u001b[0m\u001b[0;34m\u001b[0m\u001b[0m\n\u001b[1;32m      4\u001b[0m     \u001b[0my_train\u001b[0m\u001b[0;34m,\u001b[0m \u001b[0my_valid\u001b[0m \u001b[0;34m=\u001b[0m \u001b[0mtrain_y\u001b[0m\u001b[0;34m.\u001b[0m\u001b[0miloc\u001b[0m\u001b[0;34m[\u001b[0m\u001b[0mtrain_index\u001b[0m\u001b[0;34m]\u001b[0m\u001b[0;34m.\u001b[0m\u001b[0mcopy\u001b[0m\u001b[0;34m(\u001b[0m\u001b[0;34m)\u001b[0m\u001b[0;34m,\u001b[0m \u001b[0mtrain_y\u001b[0m\u001b[0;34m.\u001b[0m\u001b[0miloc\u001b[0m\u001b[0;34m[\u001b[0m\u001b[0mtest_index\u001b[0m\u001b[0;34m]\u001b[0m\u001b[0;34m.\u001b[0m\u001b[0mcopy\u001b[0m\u001b[0;34m(\u001b[0m\u001b[0;34m)\u001b[0m\u001b[0;34m\u001b[0m\u001b[0m\n\u001b[0;32m----> 5\u001b[0;31m     \u001b[0mX_train\u001b[0m\u001b[0;34m,\u001b[0m \u001b[0mX_valid\u001b[0m \u001b[0;34m=\u001b[0m \u001b[0mtrain_x\u001b[0m\u001b[0;34m[\u001b[0m\u001b[0mtrain_index\u001b[0m\u001b[0;34m.\u001b[0m\u001b[0mtolist\u001b[0m\u001b[0;34m(\u001b[0m\u001b[0;34m)\u001b[0m\u001b[0;34m,\u001b[0m \u001b[0;34m:\u001b[0m\u001b[0;34m]\u001b[0m\u001b[0;34m.\u001b[0m\u001b[0mcopy\u001b[0m\u001b[0;34m(\u001b[0m\u001b[0;34m)\u001b[0m\u001b[0;34m,\u001b[0m \u001b[0mtrain_x\u001b[0m\u001b[0;34m[\u001b[0m\u001b[0mtest_index\u001b[0m\u001b[0;34m.\u001b[0m\u001b[0mtolist\u001b[0m\u001b[0;34m(\u001b[0m\u001b[0;34m)\u001b[0m\u001b[0;34m,\u001b[0m \u001b[0;34m:\u001b[0m\u001b[0;34m]\u001b[0m\u001b[0;34m.\u001b[0m\u001b[0mcopy\u001b[0m\u001b[0;34m(\u001b[0m\u001b[0;34m)\u001b[0m\u001b[0;34m\u001b[0m\u001b[0m\n\u001b[0m\u001b[1;32m      6\u001b[0m     \u001b[0mX_test\u001b[0m \u001b[0;34m=\u001b[0m \u001b[0mtest_df\u001b[0m\u001b[0;34m.\u001b[0m\u001b[0mcopy\u001b[0m\u001b[0;34m(\u001b[0m\u001b[0;34m)\u001b[0m\u001b[0;34m\u001b[0m\u001b[0m\n\u001b[1;32m      7\u001b[0m     \u001b[0mprint\u001b[0m \u001b[0;34m(\u001b[0m\u001b[0;34m\"\\nFold \"\u001b[0m\u001b[0;34m,\u001b[0m \u001b[0mi\u001b[0m\u001b[0;34m)\u001b[0m\u001b[0;34m\u001b[0m\u001b[0m\n",
      "\u001b[0;31mTypeError\u001b[0m: 'coo_matrix' object is not subscriptable"
     ]
    }
   ],
   "source": [
    "for i, (train_index, test_index) in enumerate(kf.split(train_x)):\n",
    "\n",
    "    # Create data for this fold\n",
    "    y_train, y_valid = train_y.iloc[train_index].copy(), train_y.iloc[test_index].copy()\n",
    "    X_train, X_valid = train_x[train_index.tolist(), :].copy(), train_x[test_index.tolist(), :].copy()\n",
    "    X_test = test_df.copy()\n",
    "    print (\"\\nFold \", i)\n",
    "\n",
    "    if OPTIMIZE_ROUNDS:\n",
    "        eval_set = [(X_valid, y_valid)]\n",
    "        fit_model = model.fit(X_train, y_train,\n",
    "                              eval_set=eval_set,\n",
    "                              eval_metric='auc',\n",
    "                              early_stopping_rounds=EARLY_STOPPING_ROUNDS,\n",
    "                              verbose=False\n",
    "                              )\n",
    "        print (\"  Best N trees = \", model.best_ntree_limit)\n",
    "        print (\"  Best AUC = \", model.best_score)\n",
    "    else:\n",
    "        fit_model = model.fit(X_train, y_train)\n",
    "\n",
    "    pred = fit_model.predict_proba(X_valid)[:, 1]\n",
    "    pred_encode = pred_proc_encode(pred)\n",
    "    print (classification_report(y_valid, pred_encode))\n",
    "    y_valid_pred.iloc[test_index] = pred\n",
    "\n",
    "    # Accumulate test set predictions\n",
    "    y_test_pred += fit_model.predict_proba(X_test)[:, 1]\n",
    "\n",
    "    del X_test, X_train, X_valid, y_train"
   ]
  },
  {
   "cell_type": "code",
   "execution_count": null,
   "metadata": {},
   "outputs": [],
   "source": [
    "y_test_pred /= K  # Average test set predictions\n",
    "fit_model.save_model('../data/xgb.model')\n",
    "y_pred = pred_proc_encode(y_test_pred)\n",
    "y_pred_cv = pred_proc_encode(y_valid_pred)\n",
    "\n",
    "print \"\\nreport for full training set:\", classification_report(y, y_pred_cv, target_names=['negetive','positive'])\n",
    "                                                                                           \n",
    "\n",
    "\n",
    "submit = pd.concat([test_id, y_pred], axis=1)\n",
    "\n",
    "submit.to_csv(data_path+'xgb_result_{}_test.csv'.format(code), index=False)"
   ]
  }
 ],
 "metadata": {
  "kernelspec": {
   "display_name": "Python 3",
   "language": "python",
   "name": "python3"
  },
  "language_info": {
   "codemirror_mode": {
    "name": "ipython",
    "version": 3
   },
   "file_extension": ".py",
   "mimetype": "text/x-python",
   "name": "python",
   "nbconvert_exporter": "python",
   "pygments_lexer": "ipython3",
   "version": "3.6.4"
  }
 },
 "nbformat": 4,
 "nbformat_minor": 2
}
